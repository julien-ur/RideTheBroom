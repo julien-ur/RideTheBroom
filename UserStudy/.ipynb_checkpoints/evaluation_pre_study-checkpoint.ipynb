{
 "cells": [
  {
   "cell_type": "markdown",
   "metadata": {},
   "source": [
    "## Pre-Processing"
   ]
  },
  {
   "cell_type": "code",
   "execution_count": 14,
   "metadata": {},
   "outputs": [],
   "source": [
    "import pandas as pd\n",
    "import numpy as np\n",
    "import matplotlib.pyplot as plt\n",
    "import glob"
   ]
  },
  {
   "cell_type": "code",
   "execution_count": 28,
   "metadata": {},
   "outputs": [],
   "source": [
    "def load_csvs(subject_id):\n",
    "    temp_events = \"study_data/s%d_events%s.csv\"\n",
    "    temp_gamestatus = \"study_data/s%d_gamestatus%s.csv\"\n",
    "    \n",
    "    events = []\n",
    "    gamestatus = []\n",
    "    split_counter = 0\n",
    "    split = \"\"\n",
    "\n",
    "    while True:\n",
    "        if split_counter > 0:\n",
    "            split = \"_%d\" % split_counter\n",
    "        try:\n",
    "            ev_tmp = pd.read_csv(temp_events % (subject_id, split), sep=';')\n",
    "            gs_tmp = pd.read_csv(temp_gamestatus % (subject_id, split), sep=';')\n",
    "            ev_tmp['SubjectId'] = subject_id\n",
    "            gs_tmp['SubjectId'] = subject_id\n",
    "            ev_tmp['SplitCount'] = split_counter\n",
    "            gs_tmp['SplitCount'] = split_counter\n",
    "            events.append(ev_tmp)\n",
    "            gamestatus.append(gs_tmp)\n",
    "            \n",
    "        except FileNotFoundError:\n",
    "            break\n",
    "            \n",
    "        split_counter += 1\n",
    "        \n",
    "    return pd.concat(events).reset_index(), pd.concat(gamestatus).reset_index()"
   ]
  },
  {
   "cell_type": "code",
   "execution_count": 3,
   "metadata": {},
   "outputs": [],
   "source": [
    "def move_custom_data(re, rg):\n",
    "    for index, re_row in re.copy().iterrows():\n",
    "        if re_row.TaskType == 'Custom':\n",
    "            rg_split_idx = rg.index[rg.SplitCount == re_row.SplitCount]\n",
    "            cam_cont_pos = re_row.TaskPos.strip('() ').split(',')\n",
    "            print(cam_cont_pos)\n",
    "            rg.loc[rg_split_idx, 'CamContXPos'] = cam_cont_pos[0]\n",
    "            rg.loc[rg_split_idx, 'CamContYPos'] = cam_cont_pos[1]\n",
    "            rg.loc[rg_split_idx, 'CamContZPos'] = cam_cont_pos[2]\n",
    "            re.drop(index, inplace=True)\n",
    "            continue\n",
    "            \n",
    "    return re, rg"
   ]
  },
  {
   "cell_type": "code",
   "execution_count": 4,
   "metadata": {},
   "outputs": [],
   "source": [
    "def add_rc_count_to_events(re, rg):\n",
    "    re['RepeatCount'] = pd.Series(np.array(np.zeros(re.size), dtype='uint8'))\n",
    "    \n",
    "    last_time = 0\n",
    "    last_round_type = re.iloc[0].RoundType\n",
    "    last_split_count = 0\n",
    "    repeat_count = 0\n",
    "    start_index = 0\n",
    "    \n",
    "    for index, re_row in re.iterrows():\n",
    "        if (re_row.SplitCount != last_split_count) | (re_row.RoundType != last_round_type) | (index == re.index[-1]):\n",
    "            re.loc[start_index : index, 'RepeatCount'] = repeat_count\n",
    "            \n",
    "            sc_rt_rg_mask = (rg.SplitCount == last_split_count) & (rg.RoundType == last_round_type)\n",
    "            sc_rt_re_mask = (re.SplitCount == last_split_count) & (re.RoundType == last_round_type)\n",
    "\n",
    "            last_rc_in_rg = rg.loc[(rg.Timestamp <= last_time) & sc_rt_rg_mask].RepeatCount.max()\n",
    "            # print (last_round_type, \"sc\", last_split_count, \"time\", last_time, \"rc\", repeat_count, \"lrc\", last_rc_in_rg)\n",
    "\n",
    "            if repeat_count < last_rc_in_rg:\n",
    "                for rc in range(repeat_count+1, last_rc_in_rg+1):\n",
    "                    rc_round = rg.loc[(rg.RepeatCount == rc) & sc_rt_rg_mask]\n",
    "                    rc_start = rc_round.iloc[0].Timestamp\n",
    "                    rc_end = rc_round.iloc[-1].Timestamp\n",
    "                    \n",
    "                    # print (last_round_type, repeat_count, last_rc_in_rg, rc_start, rc_end)\n",
    "                    re.loc[(re.Timestamp >= rc_start) & (re.Timestamp <= rc_end) & sc_rt_re_mask, 'RepeatCount'] = rc\n",
    "                 \n",
    "            start_index = index\n",
    "            repeat_count = 0\n",
    "            last_round_type = re_row.RoundType\n",
    "            last_split_count = re_row.SplitCount\n",
    "            \n",
    "        elif (re_row.Timestamp < last_time):\n",
    "            re.loc[start_index : index, 'RepeatCount'] = repeat_count\n",
    "            start_index = index\n",
    "            repeat_count += 1\n",
    "            \n",
    "        last_time = re_row.Timestamp\n",
    "        \n",
    "    return re, rg"
   ]
  },
  {
   "cell_type": "code",
   "execution_count": 5,
   "metadata": {},
   "outputs": [],
   "source": [
    "def create_rounds(re, rg):\n",
    "    round_columns = ['SubjectId', 'Round', 'RoundType', 'Trial', 'RepeatCount', 'SplitCount', 'ValidTrial', 'StartTime', 'EndTime', 'Duration']\n",
    "    round_data = []\n",
    "    \n",
    "    re[\"Trial\"] = pd.Series(np.array(np.zeros(re.size), dtype='uint8'))\n",
    "    re[\"ValidTrial\"] = pd.Series([], dtype=bool)\n",
    "    rg[\"Trial\"] = pd.Series(np.array(np.empty(re.size), dtype='uint8'))\n",
    "    rg[\"ValidTrial\"] = pd.Series([], dtype=bool)\n",
    "    \n",
    "    # iterate over all available rounds\n",
    "    for r in rg.Round.unique():\n",
    "        trialNum = 0\n",
    "        rg_round = rg.loc[rg.Round == r]\n",
    "        round_type = rg_round.iloc[0].RoundType\n",
    "        \n",
    "        re_round_idx = re.index[(re.RoundType == round_type)]\n",
    "        re.loc[re_round_idx, 'RoundType'] = round_type\n",
    "        \n",
    "        for sc in rg_round.SplitCount.unique():\n",
    "            rg_split = rg_round.loc[rg_round.SplitCount == sc]\n",
    "            \n",
    "            for rc in rg_split.RepeatCount.unique():\n",
    "                rg_trial = rg_split.loc[rg_split.RepeatCount == rc]\n",
    "                \n",
    "                trial_start = rg_trial.iloc[0].Timestamp\n",
    "                trial_end = rg_trial.iloc[-1].Timestamp\n",
    "                trial_dur = trial_end - trial_start\n",
    "                \n",
    "                rg_trial_idx = rg.index[(rg.Round == r) & (rg.SplitCount == sc) & (rg.RepeatCount == rc)]\n",
    "                re_trial_idx = re.index[(re.RoundType == round_type) & (re.SplitCount == sc) & (re.RepeatCount == rc)]\n",
    "                \n",
    "                if trial_dur <= 15:\n",
    "                    rg.drop(rg_trial_idx, inplace=True)\n",
    "                    re.drop(re_trial_idx, inplace=True)\n",
    "                    continue\n",
    "                \n",
    "                re_trial = re.loc[re_trial_idx]\n",
    "                rings = re_trial.loc[(re_trial.TaskType == 'Ring') & (re_trial.TaskStatus != 'visible')].EventId.unique().size\n",
    "                povs = re_trial.loc[(re_trial.TaskType == 'POV') & (re_trial.TaskStatus != 'visible')].EventId.unique().size\n",
    "                \n",
    "                valid_trial = False\n",
    "\n",
    "                if (round_type == 'Training_Ring_Only') & (rings == 20):\n",
    "                        valid_trial = True\n",
    "                elif (round_type != 'Training_Ring_Only') & (povs == 9):\n",
    "                        valid_trial = True\n",
    "                \n",
    "                round_data.append({\n",
    "                     'SubjectId': rg_round.iloc[0].SubjectId, 'Round': r, 'RoundType': round_type,\n",
    "                     'Trial': trialNum, 'RepeatCount': rc, 'SplitCount': sc,\n",
    "                     'ValidTrial': valid_trial, 'Duration': trial_dur})\n",
    "                \n",
    "                rg.loc[rg_trial_idx, 'Trial'] = trialNum\n",
    "                rg.loc[rg_trial_idx, 'ValidTrial'] = valid_trial\n",
    "                \n",
    "                re.loc[re_trial_idx, 'Trial'] = trialNum\n",
    "                re.loc[re_trial_idx, 'ValidTrial'] = valid_trial\n",
    "                \n",
    "                trialNum += 1\n",
    "                \n",
    "    return pd.DataFrame(data=round_data, columns=round_columns), re, rg"
   ]
  },
  {
   "cell_type": "code",
   "execution_count": 6,
   "metadata": {},
   "outputs": [],
   "source": [
    "def process_events(re, rg):\n",
    "    re[\"EndTime\"] = pd.Series([], dtype=float)\n",
    "    re[\"Duration\"] = pd.Series([], dtype=float)\n",
    "    re[\"Round\"] = pd.Series(np.array(np.zeros(re.size), dtype=\"uint8\"))\n",
    "    rg['CamContXPos'] = pd.Series([], dtype=object)\n",
    "    rg['CamContYPos'] = pd.Series([], dtype=object)\n",
    "    rg['CamContZPos'] = pd.Series([], dtype=object)\n",
    "\n",
    "    for index, re_row in re.copy().iterrows():\n",
    "        if re_row.TaskStatus == 'visible':\n",
    "            started = re_row.Timestamp\n",
    "            rg_info = rg.loc[(rg.RoundType == re_row.RoundType) & (rg.Trial == re_row.Trial)].iloc[0]\n",
    "            re.loc[index,'Round'] = rg_info.Round\n",
    "\n",
    "            is_corresponding_event = (re.EventId == re_row.EventId) & (re.TaskStatus != 'visible')\n",
    "            ce_idx = re.index[is_corresponding_event]\n",
    "            \n",
    "            if ce_idx.size > 0:\n",
    "                corresponding_event = re.loc[ce_idx].iloc[0]\n",
    "                finished = corresponding_event.Timestamp\n",
    "                duration = finished - started\n",
    "                status = corresponding_event.TaskStatus\n",
    "                re.drop(ce_idx, inplace=True)\n",
    "            else:\n",
    "                print('unfinshed event')  \n",
    "                finished = np.nan\n",
    "                duration = np.nan\n",
    "                status = 'unfinished'\n",
    "            \n",
    "            re.loc[index,'EndTime'] = finished\n",
    "            re.loc[index, 'Duration'] = duration\n",
    "            re.loc[index, 'TaskStatus'] = status\n",
    "                \n",
    "    re = re.rename(columns = {'Timestamp': 'StartTime'})\n",
    "\n",
    "    return re, rg"
   ]
  },
  {
   "cell_type": "code",
   "execution_count": 7,
   "metadata": {},
   "outputs": [],
   "source": [
    "def fix_timestamps(ev, ga, ro):\n",
    "    total_dur = 0\n",
    "    for r in range(ro.Round.max() + 1):\n",
    "        curr_round = ro.loc[ro.Round == r]\n",
    "        trials = curr_round.Trial.max() + 1\n",
    "        \n",
    "        for t in range(trials):\n",
    "            trial_dur = curr_round.loc[curr_round.Trial == t].iloc[0].Duration\n",
    "            trial_mask = (ro.Round == r) & (ro.Trial == t)\n",
    "            ro.loc[trial_mask, 'StartTime'] = total_dur\n",
    "            ro.loc[trial_mask, 'EndTime'] = total_dur + trial_dur\n",
    "            \n",
    "            ga_trial_mask = (ga.Round == r) & (ga.Trial == t)\n",
    "            ev_trial_mask = (ev.Round == r) & (ev.Trial == t)\n",
    "            \n",
    "            ga_trial_start = ga.loc[ga_trial_mask].iloc[0].Timestamp\n",
    "            trial_time_offset =  total_dur - ga_trial_start\n",
    "            \n",
    "            ga.loc[ga_trial_mask, 'Timestamp'] = ga.loc[ga_trial_mask, 'Timestamp'] + trial_time_offset\n",
    "            ev.loc[ev_trial_mask, 'StartTime'] = ev.loc[ev_trial_mask, 'StartTime'] + trial_time_offset\n",
    "            ev.loc[ev_trial_mask, 'EndTime'] = ev.loc[ev_trial_mask, 'EndTime'] + trial_time_offset\n",
    "            \n",
    "            total_dur += trial_dur + 0.001\n",
    "    return ro, ev, ga"
   ]
  },
  {
   "cell_type": "code",
   "execution_count": 8,
   "metadata": {
    "scrolled": false
   },
   "outputs": [],
   "source": [
    "def preprocess(re, rg):\n",
    "    re = re.rename(columns = {\"EventInfo\" : \"TaskPos\", \"EventType\": \"TaskType\", \"EventStatus\": 'TaskStatus'})\n",
    "    \n",
    "    re, rg = move_custom_data(re, rg)\n",
    "    re, rg = add_rc_count_to_events(re, rg)\n",
    "    ro, re, rg = create_rounds(re, rg)\n",
    "    re, rg = process_events(re, rg)\n",
    "    ro, re, rg = fix_timestamps(re, rg, ro)\n",
    "    \n",
    "    re = re[['SubjectId', 'EventId', 'Round', 'RoundType', 'Trial', 'ValidTrial', 'TaskType', 'TaskStatus', 'TaskPos', 'Duration', 'StartTime', 'EndTime']]\n",
    "    rg = rg[['SubjectId', 'Timestamp', 'Round', 'Trial', 'PlayerXPos', 'PlayerYPos', 'PlayerZPos', 'MainCamXPos', 'MainCamYPos', 'MainCamZPos', 'PlayerXRot', 'PlayerYRot', 'PlayerZRot', 'MainCamXRot', 'MainCamYRot', 'MainCamZRot', 'CamContXPos', 'CamContYPos', 'CamContZPos']]\n",
    "\n",
    "    return ro, re, rg"
   ]
  },
  {
   "cell_type": "code",
   "execution_count": 40,
   "metadata": {
    "scrolled": false
   },
   "outputs": [],
   "source": [
    "def create_final_csvs(write_csvs=False):\n",
    "    study_dict = { 'rounds': [], 'events': [], 'gamestatus': [] }\n",
    "    \n",
    "    for subject in range(4):\n",
    "        # check if data for the subject available\n",
    "        if len(glob.glob('study_data/s%d_*.csv' % subject)) < 2:\n",
    "            continue\n",
    "            \n",
    "        print('Subject #%d' % (subject))\n",
    "        \n",
    "        # load all csvs and concatenate splits if available\n",
    "        raw_events, raw_gamestatus = load_csvs(subject)\n",
    "        \n",
    "        # preprocess data\n",
    "        ro, ev, ga = preprocess(raw_events, raw_gamestatus)\n",
    "        \n",
    "        # add to data dict\n",
    "        study_dict['rounds'].append(ro)\n",
    "        study_dict['events'].append(ev)\n",
    "        study_dict['gamestatus'].append(ga)\n",
    "        \n",
    "    # clean index\n",
    "    ro_total = pd.concat(study_dict['rounds']).reset_index()\n",
    "    ev_total = pd.concat(study_dict['events']).reset_index()\n",
    "    gs_total = pd.concat(study_dict['gamestatus']).reset_index()\n",
    "    \n",
    "    if write_csvs:\n",
    "        ro_total.to_excel('ro_all.xlsx')\n",
    "        ev_total.to_excel('ev_all.xlsx')\n",
    "        gs_total.to_excel('gs_all.xlsx')\n",
    "        \n",
    "    print('finished')"
   ]
  },
  {
   "cell_type": "code",
   "execution_count": 41,
   "metadata": {
    "scrolled": true
   },
   "outputs": [
    {
     "name": "stdout",
     "output_type": "stream",
     "text": [
      "Subject #3\n",
      "['-0.313', ' -1.219', ' -0.412']\n",
      "unfinshed event\n",
      "finished\n"
     ]
    }
   ],
   "source": [
    "create_final_csvs()"
   ]
  },
  {
   "cell_type": "markdown",
   "metadata": {},
   "source": [
    "## Data-Analysis"
   ]
  },
  {
   "cell_type": "code",
   "execution_count": null,
   "metadata": {},
   "outputs": [],
   "source": [
    "import pandas as pd\n",
    "import numpy as np\n",
    "import matplotlib.pyplot as plt\n",
    "\n",
    "ro_tot = pd.read_excel('rounds_total.xlsx')\n",
    "ev_tot = pd.read_excel('events_total.xlsx')\n",
    "gs_tot = pd.read_excel('gamestatus_total.xlsx')"
   ]
  },
  {
   "cell_type": "code",
   "execution_count": null,
   "metadata": {},
   "outputs": [],
   "source": [
    "def get_motion_data(gs, started, finished):\n",
    "    gidx = gs.index[(gs.Timestamp >= started) & (gs.Timestamp <= finished)]\n",
    "    md = gs.loc[gidx, ['PlayerYRot', 'PlayerXRot', 'MainCamYRot', 'MainCamXRot']]\n",
    "    md['MainCamXRotRel'] = md['MainCamXRot'] - md['PlayerXRot']\n",
    "    md['MainCamYRotRel'] = md['MainCamYRot'] - md['PlayerYRot']\n",
    "    md['MainCamXRotNorm'] = md.apply(lambda row: ((row.MainCamXRotRel - 180) % 360 - 180), axis=1)\n",
    "    return md"
   ]
  },
  {
   "cell_type": "markdown",
   "metadata": {},
   "source": [
    "### Gewinnspiel Auswertung"
   ]
  },
  {
   "cell_type": "code",
   "execution_count": null,
   "metadata": {},
   "outputs": [],
   "source": [
    "columns = ['SubjectId', 'RoundType', 'RoundScore', 'PovSucc', 'PovTotal', 'RingSucc', 'RingTotal']\n",
    "data = []\n",
    "\n",
    "def filter_ev(group):\n",
    "    return ((group.Trial == group.Trial.max())\n",
    "           & group.ValidTrial \n",
    "           & (~group.RoundType.isin(['Training_Ring_Only', 'Training_Complete']))).any()\n",
    "\n",
    "def round_score(x):\n",
    "    pov_succ = x[(x.TaskType == 'POV') & (x.TaskStatus == 'success')].EventId.size\n",
    "    pov_tot = x[(x.TaskType == 'POV')].EventId.size\n",
    "    ring_succ = x[(x.TaskType == 'Ring') & (x.TaskStatus == 'success')].EventId.size\n",
    "    ring_tot = x[(x.TaskType == 'Ring')].EventId.size\n",
    "    round_score = pov_succ * (ring_succ / ring_tot)\n",
    "    data.append({'SubjectId': x.iloc[0].SubjectId, 'RoundType': x.iloc[0].RoundType, \n",
    "                 'RoundScore': round_score, 'PovSucc': pov_succ, 'PovTotal': pov_tot,\n",
    "                 'RingSucc': ring_succ, 'RingTotal': ring_tot})\n",
    "    return round_score\n",
    "\n",
    "grouped = ev_tot.groupby(['SubjectId', 'RoundType', 'Trial'])\n",
    "ev_red = grouped.filter(filter_ev)\n",
    "\n",
    "#print(ev_red[(ev_red.SubjectId == 3) & (ev_red.TaskType == 'POV')])\n",
    "\n",
    "round_score_group = ev_red.groupby(['SubjectId', 'RoundType']).apply(round_score)\n",
    "total_score = round_score_group.groupby(['SubjectId']).agg({'Sum': 'sum'}).sort_values(by=\"SubjectId\", ascending=True)\n",
    "print(total_score)\n",
    "\n",
    "#df = pd.DataFrame(data=data, columns=columns)\n",
    "#df.to_excel('scores.xlsx')\n",
    "\n",
    "#print(filtered_ev_tot.groupby(['SubjectId', 'RoundType', 'TaskType', 'TaskStatus'])['EventId'].agg({\"Count\": 'count'}).to_string())"
   ]
  },
  {
   "cell_type": "markdown",
   "metadata": {},
   "source": [
    "### POV Selection Times by Round Type"
   ]
  },
  {
   "cell_type": "code",
   "execution_count": null,
   "metadata": {},
   "outputs": [],
   "source": [
    "pov = ev_tot[(ev_tot.RoundType != 'Training_Complete') &(ev_tot.TaskType == 'POV') & (ev_tot.TaskStatus == 'success')]\n",
    "# Fehlerhafte EInträge entfernen\n",
    "pov = pov.drop(pov[(pov.RoundType == 'Audio') & (pov.Duration > 10)].index)\n",
    "plot = pov.boxplot(column=['Duration'], by='RoundType', figsize=(20,10))\n",
    "fig = plot.get_figure()\n",
    "fig.savefig(\"output.png\")"
   ]
  },
  {
   "cell_type": "markdown",
   "metadata": {},
   "source": [
    "### Feedback Reaction Times"
   ]
  },
  {
   "cell_type": "code",
   "execution_count": null,
   "metadata": {},
   "outputs": [],
   "source": [
    "for rt in ev_tot.RoundType.unique():\n",
    "    round_ev = ev_tot[ev_tot.RoundType == rt]\n",
    "    round_pov = events[events.TaskType == 'POV']\n",
    "    #pov_succ = pov_events.loc[events.Status == 'success']\n",
    "    \n",
    "    #ring_events = events.loc[(eve nts.TaskType == 'Ring')]\n",
    "    #ring_succ = ring_events.loc[events.Status == 'success'].shape[0]\n",
    "    #ring_fail = ring_events.loc[events.Status == 'timeout'].shape[0]\n",
    "    #pov_fail = pov_events.loc[events.Status == 'timeout'].shape[0]\n",
    "\n",
    "    for pos in round_pov.Position.unique():\n",
    "        print(\"Plot for %s, %s\" % (rt, pos))\n",
    "        round_pov_pos = round_pov[round_pov.Position == pos]\n",
    "        round_pov_pos.plot(kind=\"scatter\", x=\"MainCamYRot\", y=\"MainCamXRot\", xlim=(-360,360), ylim=(180,-180))\n",
    "        plt.show()"
   ]
  }
 ],
 "metadata": {
  "kernelspec": {
   "display_name": "Python 3",
   "language": "python",
   "name": "python3"
  },
  "language_info": {
   "codemirror_mode": {
    "name": "ipython",
    "version": 3
   },
   "file_extension": ".py",
   "mimetype": "text/x-python",
   "name": "python",
   "nbconvert_exporter": "python",
   "pygments_lexer": "ipython3",
   "version": "3.6.5"
  }
 },
 "nbformat": 4,
 "nbformat_minor": 2
}
